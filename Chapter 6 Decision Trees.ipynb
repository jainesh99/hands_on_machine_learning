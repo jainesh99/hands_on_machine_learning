{
 "cells": [
  {
   "cell_type": "code",
   "execution_count": 4,
   "metadata": {},
   "outputs": [],
   "source": [
    "import dill\n",
    "dill.load_session('ch5_decision_trees.db')"
   ]
  },
  {
   "cell_type": "code",
   "execution_count": 1,
   "metadata": {},
   "outputs": [
    {
     "data": {
      "text/plain": [
       "(array([[1.4, 0.2],\n",
       "        [1.4, 0.2],\n",
       "        [1.3, 0.2],\n",
       "        [1.5, 0.2],\n",
       "        [1.4, 0.2],\n",
       "        [1.7, 0.4],\n",
       "        [1.4, 0.3],\n",
       "        [1.5, 0.2],\n",
       "        [1.4, 0.2],\n",
       "        [1.5, 0.1],\n",
       "        [1.5, 0.2],\n",
       "        [1.6, 0.2],\n",
       "        [1.4, 0.1],\n",
       "        [1.1, 0.1],\n",
       "        [1.2, 0.2],\n",
       "        [1.5, 0.4],\n",
       "        [1.3, 0.4],\n",
       "        [1.4, 0.3],\n",
       "        [1.7, 0.3],\n",
       "        [1.5, 0.3],\n",
       "        [1.7, 0.2],\n",
       "        [1.5, 0.4],\n",
       "        [1. , 0.2],\n",
       "        [1.7, 0.5],\n",
       "        [1.9, 0.2],\n",
       "        [1.6, 0.2],\n",
       "        [1.6, 0.4],\n",
       "        [1.5, 0.2],\n",
       "        [1.4, 0.2],\n",
       "        [1.6, 0.2],\n",
       "        [1.6, 0.2],\n",
       "        [1.5, 0.4],\n",
       "        [1.5, 0.1],\n",
       "        [1.4, 0.2],\n",
       "        [1.5, 0.2],\n",
       "        [1.2, 0.2],\n",
       "        [1.3, 0.2],\n",
       "        [1.4, 0.1],\n",
       "        [1.3, 0.2],\n",
       "        [1.5, 0.2],\n",
       "        [1.3, 0.3],\n",
       "        [1.3, 0.3],\n",
       "        [1.3, 0.2],\n",
       "        [1.6, 0.6],\n",
       "        [1.9, 0.4],\n",
       "        [1.4, 0.3],\n",
       "        [1.6, 0.2],\n",
       "        [1.4, 0.2],\n",
       "        [1.5, 0.2],\n",
       "        [1.4, 0.2],\n",
       "        [4.7, 1.4],\n",
       "        [4.5, 1.5],\n",
       "        [4.9, 1.5],\n",
       "        [4. , 1.3],\n",
       "        [4.6, 1.5],\n",
       "        [4.5, 1.3],\n",
       "        [4.7, 1.6],\n",
       "        [3.3, 1. ],\n",
       "        [4.6, 1.3],\n",
       "        [3.9, 1.4],\n",
       "        [3.5, 1. ],\n",
       "        [4.2, 1.5],\n",
       "        [4. , 1. ],\n",
       "        [4.7, 1.4],\n",
       "        [3.6, 1.3],\n",
       "        [4.4, 1.4],\n",
       "        [4.5, 1.5],\n",
       "        [4.1, 1. ],\n",
       "        [4.5, 1.5],\n",
       "        [3.9, 1.1],\n",
       "        [4.8, 1.8],\n",
       "        [4. , 1.3],\n",
       "        [4.9, 1.5],\n",
       "        [4.7, 1.2],\n",
       "        [4.3, 1.3],\n",
       "        [4.4, 1.4],\n",
       "        [4.8, 1.4],\n",
       "        [5. , 1.7],\n",
       "        [4.5, 1.5],\n",
       "        [3.5, 1. ],\n",
       "        [3.8, 1.1],\n",
       "        [3.7, 1. ],\n",
       "        [3.9, 1.2],\n",
       "        [5.1, 1.6],\n",
       "        [4.5, 1.5],\n",
       "        [4.5, 1.6],\n",
       "        [4.7, 1.5],\n",
       "        [4.4, 1.3],\n",
       "        [4.1, 1.3],\n",
       "        [4. , 1.3],\n",
       "        [4.4, 1.2],\n",
       "        [4.6, 1.4],\n",
       "        [4. , 1.2],\n",
       "        [3.3, 1. ],\n",
       "        [4.2, 1.3],\n",
       "        [4.2, 1.2],\n",
       "        [4.2, 1.3],\n",
       "        [4.3, 1.3],\n",
       "        [3. , 1.1],\n",
       "        [4.1, 1.3],\n",
       "        [6. , 2.5],\n",
       "        [5.1, 1.9],\n",
       "        [5.9, 2.1],\n",
       "        [5.6, 1.8],\n",
       "        [5.8, 2.2],\n",
       "        [6.6, 2.1],\n",
       "        [4.5, 1.7],\n",
       "        [6.3, 1.8],\n",
       "        [5.8, 1.8],\n",
       "        [6.1, 2.5],\n",
       "        [5.1, 2. ],\n",
       "        [5.3, 1.9],\n",
       "        [5.5, 2.1],\n",
       "        [5. , 2. ],\n",
       "        [5.1, 2.4],\n",
       "        [5.3, 2.3],\n",
       "        [5.5, 1.8],\n",
       "        [6.7, 2.2],\n",
       "        [6.9, 2.3],\n",
       "        [5. , 1.5],\n",
       "        [5.7, 2.3],\n",
       "        [4.9, 2. ],\n",
       "        [6.7, 2. ],\n",
       "        [4.9, 1.8],\n",
       "        [5.7, 2.1],\n",
       "        [6. , 1.8],\n",
       "        [4.8, 1.8],\n",
       "        [4.9, 1.8],\n",
       "        [5.6, 2.1],\n",
       "        [5.8, 1.6],\n",
       "        [6.1, 1.9],\n",
       "        [6.4, 2. ],\n",
       "        [5.6, 2.2],\n",
       "        [5.1, 1.5],\n",
       "        [5.6, 1.4],\n",
       "        [6.1, 2.3],\n",
       "        [5.6, 2.4],\n",
       "        [5.5, 1.8],\n",
       "        [4.8, 1.8],\n",
       "        [5.4, 2.1],\n",
       "        [5.6, 2.4],\n",
       "        [5.1, 2.3],\n",
       "        [5.1, 1.9],\n",
       "        [5.9, 2.3],\n",
       "        [5.7, 2.5],\n",
       "        [5.2, 2.3],\n",
       "        [5. , 1.9],\n",
       "        [5.2, 2. ],\n",
       "        [5.4, 2.3],\n",
       "        [5.1, 1.8]]),\n",
       " array([0, 0, 0, 0, 0, 0, 0, 0, 0, 0, 0, 0, 0, 0, 0, 0, 0, 0, 0, 0, 0, 0,\n",
       "        0, 0, 0, 0, 0, 0, 0, 0, 0, 0, 0, 0, 0, 0, 0, 0, 0, 0, 0, 0, 0, 0,\n",
       "        0, 0, 0, 0, 0, 0, 1, 1, 1, 1, 1, 1, 1, 1, 1, 1, 1, 1, 1, 1, 1, 1,\n",
       "        1, 1, 1, 1, 1, 1, 1, 1, 1, 1, 1, 1, 1, 1, 1, 1, 1, 1, 1, 1, 1, 1,\n",
       "        1, 1, 1, 1, 1, 1, 1, 1, 1, 1, 1, 1, 2, 2, 2, 2, 2, 2, 2, 2, 2, 2,\n",
       "        2, 2, 2, 2, 2, 2, 2, 2, 2, 2, 2, 2, 2, 2, 2, 2, 2, 2, 2, 2, 2, 2,\n",
       "        2, 2, 2, 2, 2, 2, 2, 2, 2, 2, 2, 2, 2, 2, 2, 2, 2, 2]))"
      ]
     },
     "execution_count": 1,
     "metadata": {},
     "output_type": "execute_result"
    }
   ],
   "source": [
    "from sklearn.datasets import load_iris\n",
    "from sklearn.tree import DecisionTreeClassifier\n",
    "\n",
    "iris = load_iris()\n",
    "X = iris.data[:, 2:]\n",
    "y = iris.target\n",
    "X,y"
   ]
  },
  {
   "cell_type": "code",
   "execution_count": 2,
   "metadata": {},
   "outputs": [
    {
     "data": {
      "text/plain": [
       "DecisionTreeClassifier(ccp_alpha=0.0, class_weight=None, criterion='gini',\n",
       "                       max_depth=2, max_features=None, max_leaf_nodes=None,\n",
       "                       min_impurity_decrease=0.0, min_impurity_split=None,\n",
       "                       min_samples_leaf=1, min_samples_split=2,\n",
       "                       min_weight_fraction_leaf=0.0, presort='deprecated',\n",
       "                       random_state=None, splitter='best')"
      ]
     },
     "execution_count": 2,
     "metadata": {},
     "output_type": "execute_result"
    }
   ],
   "source": [
    "tree_clf = DecisionTreeClassifier(max_depth=2)\n",
    "tree_clf.fit(X, y)"
   ]
  },
  {
   "cell_type": "code",
   "execution_count": 3,
   "metadata": {},
   "outputs": [
    {
     "data": {
      "text/plain": [
       "'digraph Tree {\\nnode [shape=box, style=\"filled, rounded\", color=\"black\", fontname=helvetica] ;\\nedge [fontname=helvetica] ;\\n0 [label=\"petal length (cm) <= 2.45\\\\ngini = 0.667\\\\nsamples = 150\\\\nvalue = [50, 50, 50]\\\\nclass = setosa\", fillcolor=\"#ffffff\"] ;\\n1 [label=\"gini = 0.0\\\\nsamples = 50\\\\nvalue = [50, 0, 0]\\\\nclass = setosa\", fillcolor=\"#e58139\"] ;\\n0 -> 1 [labeldistance=2.5, labelangle=45, headlabel=\"True\"] ;\\n2 [label=\"petal width (cm) <= 1.75\\\\ngini = 0.5\\\\nsamples = 100\\\\nvalue = [0, 50, 50]\\\\nclass = versicolor\", fillcolor=\"#ffffff\"] ;\\n0 -> 2 [labeldistance=2.5, labelangle=-45, headlabel=\"False\"] ;\\n3 [label=\"gini = 0.168\\\\nsamples = 54\\\\nvalue = [0, 49, 5]\\\\nclass = versicolor\", fillcolor=\"#4de88e\"] ;\\n2 -> 3 ;\\n4 [label=\"gini = 0.043\\\\nsamples = 46\\\\nvalue = [0, 1, 45]\\\\nclass = virginica\", fillcolor=\"#843de6\"] ;\\n2 -> 4 ;\\n}'"
      ]
     },
     "execution_count": 3,
     "metadata": {},
     "output_type": "execute_result"
    }
   ],
   "source": [
    "from sklearn.tree import export_graphviz\n",
    "\n",
    "dot = export_graphviz(\n",
    "    tree_clf,\n",
    "    feature_names=iris.feature_names[2:],\n",
    "    class_names=iris.target_names,\n",
    "    rounded=True,\n",
    "    filled=True)\n",
    "\n",
    "dot"
   ]
  },
  {
   "cell_type": "code",
   "execution_count": 6,
   "metadata": {},
   "outputs": [
    {
     "data": {
      "image/svg+xml": [
       "<?xml version=\"1.0\" encoding=\"UTF-8\" standalone=\"no\"?>\n",
       "<!DOCTYPE svg PUBLIC \"-//W3C//DTD SVG 1.1//EN\"\n",
       " \"http://www.w3.org/Graphics/SVG/1.1/DTD/svg11.dtd\">\n",
       "<!-- Generated by graphviz version 2.42.3 (20191010.1750)\n",
       " -->\n",
       "<!-- Title: Tree Pages: 1 -->\n",
       "<svg width=\"359pt\" height=\"300pt\"\n",
       " viewBox=\"0.00 0.00 358.91 300.00\" xmlns=\"http://www.w3.org/2000/svg\" xmlns:xlink=\"http://www.w3.org/1999/xlink\">\n",
       "<g id=\"graph0\" class=\"graph\" transform=\"scale(1 1) rotate(0) translate(4 296)\">\n",
       "<title>Tree</title>\n",
       "<polygon fill=\"white\" stroke=\"transparent\" points=\"-4,4 -4,-296 354.91,-296 354.91,4 -4,4\"/>\n",
       "<!-- 0 -->\n",
       "<g id=\"node1\" class=\"node\">\n",
       "<title>0</title>\n",
       "<path fill=\"#ffffff\" stroke=\"black\" d=\"M213.6,-292C213.6,-292 66.31,-292 66.31,-292 60.31,-292 54.31,-286 54.31,-280 54.31,-280 54.31,-226 54.31,-226 54.31,-220 60.31,-214 66.31,-214 66.31,-214 213.6,-214 213.6,-214 219.6,-214 225.6,-220 225.6,-226 225.6,-226 225.6,-280 225.6,-280 225.6,-286 219.6,-292 213.6,-292\"/>\n",
       "<text text-anchor=\"middle\" x=\"139.95\" y=\"-276.8\" font-family=\"Helvetica,sans-Serif\" font-size=\"14.00\">petal length (cm) &lt;= 2.45</text>\n",
       "<text text-anchor=\"middle\" x=\"139.95\" y=\"-262.8\" font-family=\"Helvetica,sans-Serif\" font-size=\"14.00\">gini = 0.667</text>\n",
       "<text text-anchor=\"middle\" x=\"139.95\" y=\"-248.8\" font-family=\"Helvetica,sans-Serif\" font-size=\"14.00\">samples = 150</text>\n",
       "<text text-anchor=\"middle\" x=\"139.95\" y=\"-234.8\" font-family=\"Helvetica,sans-Serif\" font-size=\"14.00\">value = [50, 50, 50]</text>\n",
       "<text text-anchor=\"middle\" x=\"139.95\" y=\"-220.8\" font-family=\"Helvetica,sans-Serif\" font-size=\"14.00\">class = setosa</text>\n",
       "</g>\n",
       "<!-- 1 -->\n",
       "<g id=\"node2\" class=\"node\">\n",
       "<title>1</title>\n",
       "<path fill=\"#e58139\" stroke=\"black\" d=\"M107.86,-171C107.86,-171 12.05,-171 12.05,-171 6.05,-171 0.05,-165 0.05,-159 0.05,-159 0.05,-119 0.05,-119 0.05,-113 6.05,-107 12.05,-107 12.05,-107 107.86,-107 107.86,-107 113.86,-107 119.86,-113 119.86,-119 119.86,-119 119.86,-159 119.86,-159 119.86,-165 113.86,-171 107.86,-171\"/>\n",
       "<text text-anchor=\"middle\" x=\"59.95\" y=\"-155.8\" font-family=\"Helvetica,sans-Serif\" font-size=\"14.00\">gini = 0.0</text>\n",
       "<text text-anchor=\"middle\" x=\"59.95\" y=\"-141.8\" font-family=\"Helvetica,sans-Serif\" font-size=\"14.00\">samples = 50</text>\n",
       "<text text-anchor=\"middle\" x=\"59.95\" y=\"-127.8\" font-family=\"Helvetica,sans-Serif\" font-size=\"14.00\">value = [50, 0, 0]</text>\n",
       "<text text-anchor=\"middle\" x=\"59.95\" y=\"-113.8\" font-family=\"Helvetica,sans-Serif\" font-size=\"14.00\">class = setosa</text>\n",
       "</g>\n",
       "<!-- 0&#45;&gt;1 -->\n",
       "<g id=\"edge1\" class=\"edge\">\n",
       "<title>0&#45;&gt;1</title>\n",
       "<path fill=\"none\" stroke=\"black\" d=\"M112.65,-213.77C104.71,-202.66 96.03,-190.51 88.05,-179.33\"/>\n",
       "<polygon fill=\"black\" stroke=\"black\" points=\"90.76,-177.11 82.1,-171.01 85.07,-181.18 90.76,-177.11\"/>\n",
       "<text text-anchor=\"middle\" x=\"77.99\" y=\"-191.47\" font-family=\"Helvetica,sans-Serif\" font-size=\"14.00\">True</text>\n",
       "</g>\n",
       "<!-- 2 -->\n",
       "<g id=\"node3\" class=\"node\">\n",
       "<title>2</title>\n",
       "<path fill=\"#ffffff\" stroke=\"black\" d=\"M292.14,-178C292.14,-178 149.77,-178 149.77,-178 143.77,-178 137.77,-172 137.77,-166 137.77,-166 137.77,-112 137.77,-112 137.77,-106 143.77,-100 149.77,-100 149.77,-100 292.14,-100 292.14,-100 298.14,-100 304.14,-106 304.14,-112 304.14,-112 304.14,-166 304.14,-166 304.14,-172 298.14,-178 292.14,-178\"/>\n",
       "<text text-anchor=\"middle\" x=\"220.95\" y=\"-162.8\" font-family=\"Helvetica,sans-Serif\" font-size=\"14.00\">petal width (cm) &lt;= 1.75</text>\n",
       "<text text-anchor=\"middle\" x=\"220.95\" y=\"-148.8\" font-family=\"Helvetica,sans-Serif\" font-size=\"14.00\">gini = 0.5</text>\n",
       "<text text-anchor=\"middle\" x=\"220.95\" y=\"-134.8\" font-family=\"Helvetica,sans-Serif\" font-size=\"14.00\">samples = 100</text>\n",
       "<text text-anchor=\"middle\" x=\"220.95\" y=\"-120.8\" font-family=\"Helvetica,sans-Serif\" font-size=\"14.00\">value = [0, 50, 50]</text>\n",
       "<text text-anchor=\"middle\" x=\"220.95\" y=\"-106.8\" font-family=\"Helvetica,sans-Serif\" font-size=\"14.00\">class = versicolor</text>\n",
       "</g>\n",
       "<!-- 0&#45;&gt;2 -->\n",
       "<g id=\"edge2\" class=\"edge\">\n",
       "<title>0&#45;&gt;2</title>\n",
       "<path fill=\"none\" stroke=\"black\" d=\"M167.6,-213.77C173.99,-204.94 180.85,-195.45 187.46,-186.32\"/>\n",
       "<polygon fill=\"black\" stroke=\"black\" points=\"190.4,-188.21 193.43,-178.06 184.73,-184.11 190.4,-188.21\"/>\n",
       "<text text-anchor=\"middle\" x=\"197.39\" y=\"-198.54\" font-family=\"Helvetica,sans-Serif\" font-size=\"14.00\">False</text>\n",
       "</g>\n",
       "<!-- 3 -->\n",
       "<g id=\"node4\" class=\"node\">\n",
       "<title>3</title>\n",
       "<path fill=\"#4de88e\" stroke=\"black\" d=\"M200.71,-64C200.71,-64 101.2,-64 101.2,-64 95.2,-64 89.2,-58 89.2,-52 89.2,-52 89.2,-12 89.2,-12 89.2,-6 95.2,0 101.2,0 101.2,0 200.71,0 200.71,0 206.71,0 212.71,-6 212.71,-12 212.71,-12 212.71,-52 212.71,-52 212.71,-58 206.71,-64 200.71,-64\"/>\n",
       "<text text-anchor=\"middle\" x=\"150.95\" y=\"-48.8\" font-family=\"Helvetica,sans-Serif\" font-size=\"14.00\">gini = 0.168</text>\n",
       "<text text-anchor=\"middle\" x=\"150.95\" y=\"-34.8\" font-family=\"Helvetica,sans-Serif\" font-size=\"14.00\">samples = 54</text>\n",
       "<text text-anchor=\"middle\" x=\"150.95\" y=\"-20.8\" font-family=\"Helvetica,sans-Serif\" font-size=\"14.00\">value = [0, 49, 5]</text>\n",
       "<text text-anchor=\"middle\" x=\"150.95\" y=\"-6.8\" font-family=\"Helvetica,sans-Serif\" font-size=\"14.00\">class = versicolor</text>\n",
       "</g>\n",
       "<!-- 2&#45;&gt;3 -->\n",
       "<g id=\"edge3\" class=\"edge\">\n",
       "<title>2&#45;&gt;3</title>\n",
       "<path fill=\"none\" stroke=\"black\" d=\"M195.48,-99.8C189.56,-90.91 183.24,-81.43 177.28,-72.49\"/>\n",
       "<polygon fill=\"black\" stroke=\"black\" points=\"180.16,-70.5 171.7,-64.12 174.33,-74.38 180.16,-70.5\"/>\n",
       "</g>\n",
       "<!-- 4 -->\n",
       "<g id=\"node5\" class=\"node\">\n",
       "<title>4</title>\n",
       "<path fill=\"#843de6\" stroke=\"black\" d=\"M338.86,-64C338.86,-64 243.05,-64 243.05,-64 237.05,-64 231.05,-58 231.05,-52 231.05,-52 231.05,-12 231.05,-12 231.05,-6 237.05,0 243.05,0 243.05,0 338.86,0 338.86,0 344.86,0 350.86,-6 350.86,-12 350.86,-12 350.86,-52 350.86,-52 350.86,-58 344.86,-64 338.86,-64\"/>\n",
       "<text text-anchor=\"middle\" x=\"290.95\" y=\"-48.8\" font-family=\"Helvetica,sans-Serif\" font-size=\"14.00\">gini = 0.043</text>\n",
       "<text text-anchor=\"middle\" x=\"290.95\" y=\"-34.8\" font-family=\"Helvetica,sans-Serif\" font-size=\"14.00\">samples = 46</text>\n",
       "<text text-anchor=\"middle\" x=\"290.95\" y=\"-20.8\" font-family=\"Helvetica,sans-Serif\" font-size=\"14.00\">value = [0, 1, 45]</text>\n",
       "<text text-anchor=\"middle\" x=\"290.95\" y=\"-6.8\" font-family=\"Helvetica,sans-Serif\" font-size=\"14.00\">class = virginica</text>\n",
       "</g>\n",
       "<!-- 2&#45;&gt;4 -->\n",
       "<g id=\"edge4\" class=\"edge\">\n",
       "<title>2&#45;&gt;4</title>\n",
       "<path fill=\"none\" stroke=\"black\" d=\"M246.42,-99.8C252.35,-90.91 258.67,-81.43 264.63,-72.49\"/>\n",
       "<polygon fill=\"black\" stroke=\"black\" points=\"267.57,-74.38 270.21,-64.12 261.75,-70.5 267.57,-74.38\"/>\n",
       "</g>\n",
       "</g>\n",
       "</svg>\n"
      ],
      "text/plain": [
       "<graphviz.files.Source at 0x12b1e58d0>"
      ]
     },
     "metadata": {},
     "output_type": "display_data"
    }
   ],
   "source": [
    "import graphviz\n",
    "from IPython.display import display\n",
    "\n",
    "display(graphviz.Source(dot))"
   ]
  },
  {
   "cell_type": "code",
   "execution_count": 8,
   "metadata": {},
   "outputs": [
    {
     "data": {
      "text/plain": [
       "array([[0.        , 0.90740741, 0.09259259]])"
      ]
     },
     "execution_count": 8,
     "metadata": {},
     "output_type": "execute_result"
    }
   ],
   "source": [
    "tree_clf.predict_proba([[5, 1.5]])"
   ]
  },
  {
   "cell_type": "code",
   "execution_count": 9,
   "metadata": {},
   "outputs": [
    {
     "data": {
      "text/plain": [
       "array([1])"
      ]
     },
     "execution_count": 9,
     "metadata": {},
     "output_type": "execute_result"
    }
   ],
   "source": [
    "tree_clf.predict([[5, 1.5]])"
   ]
  },
  {
   "cell_type": "code",
   "execution_count": 10,
   "metadata": {},
   "outputs": [],
   "source": [
    "import dill\n",
    "dill.dump_session('ch5_decision_trees.db')"
   ]
  }
 ],
 "metadata": {
  "kernelspec": {
   "display_name": "Python 3",
   "language": "python",
   "name": "python3"
  },
  "language_info": {
   "codemirror_mode": {
    "name": "ipython",
    "version": 3
   },
   "file_extension": ".py",
   "mimetype": "text/x-python",
   "name": "python",
   "nbconvert_exporter": "python",
   "pygments_lexer": "ipython3",
   "version": "3.7.0"
  }
 },
 "nbformat": 4,
 "nbformat_minor": 4
}
