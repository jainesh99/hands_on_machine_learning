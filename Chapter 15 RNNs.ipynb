{
 "cells": [
  {
   "cell_type": "code",
   "execution_count": 44,
   "metadata": {},
   "outputs": [],
   "source": [
    "import numpy as np\n",
    "from tensorflow import keras\n",
    "\n",
    "def generate_time_series(batch_size, n_steps):\n",
    "    freq1, freq2, offsets1, offsets2 = np.random.rand(4, batch_size, 1)\n",
    "    time = np.linspace(0, 1, n_steps)\n",
    "    series = 0.5 * np.sin((time - offsets1) * (freq1 * 10 + 10))\n",
    "    series += 0.2 * np.sin((time - offsets2) * (freq2 * 20 + 20))\n",
    "    series += 0.1 * (np.random.rand(batch_size, n_steps) - 0.5)\n",
    "    return series[..., np.newaxis].astype(np.float32)"
   ]
  },
  {
   "cell_type": "code",
   "execution_count": 11,
   "metadata": {
    "scrolled": true
   },
   "outputs": [
    {
     "name": "stdout",
     "output_type": "stream",
     "text": [
      "Series:  [[[-0.23643036]\n",
      "  [-0.18228617]\n",
      "  [-0.0568142 ]\n",
      "  ...\n",
      "  [-0.6167866 ]\n",
      "  [-0.41807923]\n",
      "  [-0.3014103 ]]\n",
      "\n",
      " [[ 0.19118749]\n",
      "  [ 0.2934651 ]\n",
      "  [ 0.3949101 ]\n",
      "  ...\n",
      "  [ 0.31614634]\n",
      "  [ 0.41594025]\n",
      "  [ 0.5356735 ]]\n",
      "\n",
      " [[ 0.52464515]\n",
      "  [ 0.44103223]\n",
      "  [ 0.17760512]\n",
      "  ...\n",
      "  [-0.18592957]\n",
      "  [ 0.16615519]\n",
      "  [ 0.4090717 ]]\n",
      "\n",
      " ...\n",
      "\n",
      " [[-0.3023711 ]\n",
      "  [-0.08316951]\n",
      "  [ 0.01961296]\n",
      "  ...\n",
      "  [-0.21473475]\n",
      "  [ 0.00953582]\n",
      "  [ 0.22411552]]\n",
      "\n",
      " [[ 0.6569381 ]\n",
      "  [ 0.7006996 ]\n",
      "  [ 0.531717  ]\n",
      "  ...\n",
      "  [-0.35150713]\n",
      "  [-0.2821114 ]\n",
      "  [-0.31063786]]\n",
      "\n",
      " [[ 0.07315657]\n",
      "  [-0.13301802]\n",
      "  [-0.19905634]\n",
      "  ...\n",
      "  [ 0.58108896]\n",
      "  [ 0.4785419 ]\n",
      "  [ 0.27502358]]]\n",
      "(10000, 51, 1)\n",
      "X Train: [[[-0.23643036]\n",
      "  [-0.18228617]\n",
      "  [-0.0568142 ]\n",
      "  ...\n",
      "  [-0.6753009 ]\n",
      "  [-0.6167866 ]\n",
      "  [-0.41807923]]\n",
      "\n",
      " [[ 0.19118749]\n",
      "  [ 0.2934651 ]\n",
      "  [ 0.3949101 ]\n",
      "  ...\n",
      "  [ 0.10951188]\n",
      "  [ 0.31614634]\n",
      "  [ 0.41594025]]\n",
      "\n",
      " [[ 0.52464515]\n",
      "  [ 0.44103223]\n",
      "  [ 0.17760512]\n",
      "  ...\n",
      "  [-0.36192834]\n",
      "  [-0.18592957]\n",
      "  [ 0.16615519]]\n",
      "\n",
      " ...\n",
      "\n",
      " [[-0.5841694 ]\n",
      "  [-0.34716234]\n",
      "  [-0.07689546]\n",
      "  ...\n",
      "  [ 0.17996863]\n",
      "  [ 0.31874326]\n",
      "  [ 0.4795096 ]]\n",
      "\n",
      " [[ 0.47529757]\n",
      "  [ 0.5533553 ]\n",
      "  [ 0.530499  ]\n",
      "  ...\n",
      "  [ 0.3298888 ]\n",
      "  [ 0.33440745]\n",
      "  [ 0.26028082]]\n",
      "\n",
      " [[-0.03493262]\n",
      "  [ 0.19130243]\n",
      "  [ 0.41433752]\n",
      "  ...\n",
      "  [-0.18005984]\n",
      "  [-0.16953127]\n",
      "  [-0.28270212]]]\n",
      "(7000, 50, 1)\n",
      "Y Train:  [[-0.3014103 ]\n",
      " [ 0.5356735 ]\n",
      " [ 0.4090717 ]\n",
      " ...\n",
      " [ 0.5560029 ]\n",
      " [ 0.12755625]\n",
      " [-0.3087101 ]]\n",
      "(7000, 1)\n"
     ]
    }
   ],
   "source": [
    "n_steps = 50\n",
    "series = generate_time_series(10000, n_steps + 1)\n",
    "X_train, y_train = series[:7000, :n_steps], series[:7000, -1]\n",
    "X_valid, y_valid = series[7000:9000, :n_steps], series[7000:9000, -1]\n",
    "X_test, y_test = series[9000:, :n_steps], series[9000:, -1]\n",
    "\n",
    "print('Series: ',series)\n",
    "print(series.shape)\n",
    "print('X Train:',X_train)\n",
    "print(X_train.shape)\n",
    "print('Y Train: ',y_train)\n",
    "print(y_train.shape)"
   ]
  },
  {
   "cell_type": "code",
   "execution_count": 33,
   "metadata": {},
   "outputs": [
    {
     "data": {
      "image/png": "[encoded data removed]",
      "text/plain": [
       "<Figure size 432x288 with 1 Axes>"
      ]
     },
     "metadata": {
      "needs_background": "light"
     },
     "output_type": "display_data"
    }
   ],
   "source": [
    "import matplotlib.pyplot as plt\n",
    "\n",
    "plt.plot(series[0, :], '-g')\n",
    "plt.show()"
   ]
  },
  {
   "cell_type": "markdown",
   "metadata": {},
   "source": [
    "Lets do a naive forecasting which takes the last column and sets it to predicted and then compares it to the actual value."
   ]
  },
  {
   "cell_type": "code",
   "execution_count": 45,
   "metadata": {},
   "outputs": [
    {
     "data": {
      "text/plain": [
       "0.021135446"
      ]
     },
     "execution_count": 45,
     "metadata": {},
     "output_type": "execute_result"
    }
   ],
   "source": [
    "y_pred = X_valid[:, -1]\n",
    "np.mean(keras.losses.mean_squared_error(y_valid, y_pred))"
   ]
  },
  {
   "cell_type": "code",
   "execution_count": 46,
   "metadata": {},
   "outputs": [],
   "source": [
    "# Try a linear model\n",
    "model = keras.models.Sequential([\n",
    "    keras.layers.Flatten(input_shape=[50,1]),\n",
    "    keras.layers.Dense(1)\n",
    "])"
   ]
  },
  {
   "cell_type": "code",
   "execution_count": 48,
   "metadata": {},
   "outputs": [
    {
     "name": "stdout",
     "output_type": "stream",
     "text": [
      "Train on 7000 samples, validate on 2000 samples\n",
      "Epoch 1/20\n",
      "7000/7000 [==============================] - 1s 79us/sample - loss: 0.1723 - val_loss: 0.0520\n",
      "Epoch 2/20\n",
      "7000/7000 [==============================] - 0s 43us/sample - loss: 0.0387 - val_loss: 0.0271\n",
      "Epoch 3/20\n",
      "7000/7000 [==============================] - 0s 39us/sample - loss: 0.0226 - val_loss: 0.0175\n",
      "Epoch 4/20\n",
      "7000/7000 [==============================] - 0s 43us/sample - loss: 0.0154 - val_loss: 0.0131\n",
      "Epoch 5/20\n",
      "7000/7000 [==============================] - 0s 43us/sample - loss: 0.0119 - val_loss: 0.0109\n",
      "Epoch 6/20\n",
      "7000/7000 [==============================] - 0s 43us/sample - loss: 0.0101 - val_loss: 0.0096\n",
      "Epoch 7/20\n",
      "7000/7000 [==============================] - 0s 41us/sample - loss: 0.0090 - val_loss: 0.0087\n",
      "Epoch 8/20\n",
      "7000/7000 [==============================] - 0s 41us/sample - loss: 0.0081 - val_loss: 0.0079\n",
      "Epoch 9/20\n",
      "7000/7000 [==============================] - 0s 40us/sample - loss: 0.0074 - val_loss: 0.0074\n",
      "Epoch 10/20\n",
      "7000/7000 [==============================] - 0s 40us/sample - loss: 0.0068 - val_loss: 0.0068\n",
      "Epoch 11/20\n",
      "7000/7000 [==============================] - 0s 39us/sample - loss: 0.0063 - val_loss: 0.0064\n",
      "Epoch 12/20\n",
      "7000/7000 [==============================] - 0s 39us/sample - loss: 0.0059 - val_loss: 0.0059\n",
      "Epoch 13/20\n",
      "7000/7000 [==============================] - 0s 38us/sample - loss: 0.0056 - val_loss: 0.0057\n",
      "Epoch 14/20\n",
      "7000/7000 [==============================] - 0s 39us/sample - loss: 0.0053 - val_loss: 0.0055\n",
      "Epoch 15/20\n",
      "7000/7000 [==============================] - 0s 38us/sample - loss: 0.0050 - val_loss: 0.0052\n",
      "Epoch 16/20\n",
      "7000/7000 [==============================] - 0s 40us/sample - loss: 0.0048 - val_loss: 0.0050\n",
      "Epoch 17/20\n",
      "7000/7000 [==============================] - 0s 43us/sample - loss: 0.0046 - val_loss: 0.0049\n",
      "Epoch 18/20\n",
      "7000/7000 [==============================] - 0s 41us/sample - loss: 0.0045 - val_loss: 0.0047\n",
      "Epoch 19/20\n",
      "7000/7000 [==============================] - 0s 42us/sample - loss: 0.0044 - val_loss: 0.0047\n",
      "Epoch 20/20\n",
      "7000/7000 [==============================] - 0s 43us/sample - loss: 0.0043 - val_loss: 0.0046\n"
     ]
    }
   ],
   "source": [
    "model.compile(loss=keras.losses.mean_squared_error, optimizer='adam')\n",
    "history = model.fit(X_train, y_train, epochs=20, validation_data=(X_valid, y_valid))"
   ]
  },
  {
   "cell_type": "markdown",
   "metadata": {},
   "source": [
    "Lets try an RNN"
   ]
  },
  {
   "cell_type": "code",
   "execution_count": 49,
   "metadata": {},
   "outputs": [],
   "source": [
    "model = keras.models.Sequential([\n",
    "    keras.layers.SimpleRNN(1, input_shape=[None, 1])\n",
    "])"
   ]
  },
  {
   "cell_type": "code",
   "execution_count": 50,
   "metadata": {},
   "outputs": [
    {
     "name": "stdout",
     "output_type": "stream",
     "text": [
      "Train on 7000 samples, validate on 2000 samples\n",
      "Epoch 1/20\n",
      "7000/7000 [==============================] - 3s 438us/sample - loss: 0.2816 - val_loss: 0.2438\n",
      "Epoch 2/20\n",
      "7000/7000 [==============================] - 2s 311us/sample - loss: 0.2387 - val_loss: 0.2062\n",
      "Epoch 3/20\n",
      "7000/7000 [==============================] - 2s 323us/sample - loss: 0.2010 - val_loss: 0.1749\n",
      "Epoch 4/20\n",
      "7000/7000 [==============================] - 2s 310us/sample - loss: 0.1690 - val_loss: 0.1491\n",
      "Epoch 5/20\n",
      "7000/7000 [==============================] - 2s 322us/sample - loss: 0.1438 - val_loss: 0.1292\n",
      "Epoch 6/20\n",
      "7000/7000 [==============================] - 2s 307us/sample - loss: 0.1223 - val_loss: 0.1090\n",
      "Epoch 7/20\n",
      "7000/7000 [==============================] - 2s 307us/sample - loss: 0.1006 - val_loss: 0.0883\n",
      "Epoch 8/20\n",
      "7000/7000 [==============================] - 2s 311us/sample - loss: 0.0812 - val_loss: 0.0709\n",
      "Epoch 9/20\n",
      "7000/7000 [==============================] - 2s 324us/sample - loss: 0.0647 - val_loss: 0.0558\n",
      "Epoch 10/20\n",
      "7000/7000 [==============================] - 2s 307us/sample - loss: 0.0504 - val_loss: 0.0431\n",
      "Epoch 11/20\n",
      "7000/7000 [==============================] - 2s 328us/sample - loss: 0.0385 - val_loss: 0.0327\n",
      "Epoch 12/20\n",
      "7000/7000 [==============================] - 2s 305us/sample - loss: 0.0291 - val_loss: 0.0248\n",
      "Epoch 13/20\n",
      "7000/7000 [==============================] - 2s 305us/sample - loss: 0.0222 - val_loss: 0.0193\n",
      "Epoch 14/20\n",
      "7000/7000 [==============================] - 2s 307us/sample - loss: 0.0175 - val_loss: 0.0158\n",
      "Epoch 15/20\n",
      "7000/7000 [==============================] - 2s 323us/sample - loss: 0.0147 - val_loss: 0.0138\n",
      "Epoch 16/20\n",
      "7000/7000 [==============================] - 2s 312us/sample - loss: 0.0131 - val_loss: 0.0128\n",
      "Epoch 17/20\n",
      "7000/7000 [==============================] - 2s 307us/sample - loss: 0.0124 - val_loss: 0.0124\n",
      "Epoch 18/20\n",
      "7000/7000 [==============================] - 2s 315us/sample - loss: 0.0121 - val_loss: 0.0122\n",
      "Epoch 19/20\n",
      "7000/7000 [==============================] - 2s 308us/sample - loss: 0.0119 - val_loss: 0.0121\n",
      "Epoch 20/20\n",
      "7000/7000 [==============================] - 2s 327us/sample - loss: 0.0118 - val_loss: 0.0120\n"
     ]
    }
   ],
   "source": [
    "model.compile(loss=keras.losses.mean_squared_error, optimizer='adam')\n",
    "history = model.fit(X_train, y_train, epochs=20, validation_data=(X_valid, y_valid))"
   ]
  },
  {
   "cell_type": "code",
   "execution_count": 51,
   "metadata": {},
   "outputs": [],
   "source": [
    "model = keras.models.Sequential([\n",
    "    keras.layers.SimpleRNN(20, return_sequences=True,input_shape=[None,1]),\n",
    "    keras.layers.SimpleRNN(20, return_sequences=True),\n",
    "    keras.layers.SimpleRNN(1)\n",
    "])"
   ]
  },
  {
   "cell_type": "code",
   "execution_count": 52,
   "metadata": {},
   "outputs": [
    {
     "name": "stdout",
     "output_type": "stream",
     "text": [
      "Train on 7000 samples, validate on 2000 samples\n",
      "Epoch 1/20\n",
      "7000/7000 [==============================] - 9s 1ms/sample - loss: 0.0408 - val_loss: 0.0094\n",
      "Epoch 2/20\n",
      "7000/7000 [==============================] - 7s 1ms/sample - loss: 0.0068 - val_loss: 0.0058\n",
      "Epoch 3/20\n",
      "7000/7000 [==============================] - 7s 1ms/sample - loss: 0.0054 - val_loss: 0.0070\n",
      "Epoch 4/20\n",
      "7000/7000 [==============================] - 7s 992us/sample - loss: 0.0047 - val_loss: 0.0042\n",
      "Epoch 5/20\n",
      "7000/7000 [==============================] - 7s 1ms/sample - loss: 0.0041 - val_loss: 0.0037\n",
      "Epoch 6/20\n",
      "7000/7000 [==============================] - 7s 991us/sample - loss: 0.0038 - val_loss: 0.0036\n",
      "Epoch 7/20\n",
      "7000/7000 [==============================] - 7s 987us/sample - loss: 0.0037 - val_loss: 0.0045\n",
      "Epoch 8/20\n",
      "7000/7000 [==============================] - 7s 989us/sample - loss: 0.0036 - val_loss: 0.0038\n",
      "Epoch 9/20\n",
      "7000/7000 [==============================] - 7s 992us/sample - loss: 0.0035 - val_loss: 0.0039\n",
      "Epoch 10/20\n",
      "7000/7000 [==============================] - 7s 1ms/sample - loss: 0.0035 - val_loss: 0.0033\n",
      "Epoch 11/20\n",
      "7000/7000 [==============================] - 8s 1ms/sample - loss: 0.0033 - val_loss: 0.0034\n",
      "Epoch 12/20\n",
      "7000/7000 [==============================] - 9s 1ms/sample - loss: 0.0032 - val_loss: 0.0033\n",
      "Epoch 13/20\n",
      "7000/7000 [==============================] - 7s 1ms/sample - loss: 0.0036 - val_loss: 0.0037\n",
      "Epoch 14/20\n",
      "7000/7000 [==============================] - 7s 1ms/sample - loss: 0.0033 - val_loss: 0.0037\n",
      "Epoch 15/20\n",
      "7000/7000 [==============================] - 10s 1ms/sample - loss: 0.0032 - val_loss: 0.0035\n",
      "Epoch 16/20\n",
      "7000/7000 [==============================] - 8s 1ms/sample - loss: 0.0031 - val_loss: 0.0030\n",
      "Epoch 17/20\n",
      "7000/7000 [==============================] - 7s 987us/sample - loss: 0.0031 - val_loss: 0.0030\n",
      "Epoch 18/20\n",
      "7000/7000 [==============================] - 7s 1ms/sample - loss: 0.0032 - val_loss: 0.0034\n",
      "Epoch 19/20\n",
      "7000/7000 [==============================] - 8s 1ms/sample - loss: 0.0031 - val_loss: 0.0031\n",
      "Epoch 20/20\n",
      "7000/7000 [==============================] - 7s 1ms/sample - loss: 0.0031 - val_loss: 0.0030\n"
     ]
    }
   ],
   "source": [
    "model.compile(loss=keras.losses.mean_squared_error, optimizer='adam')\n",
    "history = model.fit(X_train, y_train, epochs=20, validation_data=(X_valid, y_valid))"
   ]
  },
  {
   "cell_type": "code",
   "execution_count": 53,
   "metadata": {},
   "outputs": [],
   "source": [
    "model = keras.models.Sequential([\n",
    "    keras.layers.SimpleRNN(20, return_sequences=True,input_shape=[None,1]),\n",
    "    keras.layers.SimpleRNN(20),\n",
    "    keras.layers.Dense(1)\n",
    "])"
   ]
  },
  {
   "cell_type": "code",
   "execution_count": 54,
   "metadata": {},
   "outputs": [
    {
     "name": "stdout",
     "output_type": "stream",
     "text": [
      "Train on 7000 samples, validate on 2000 samples\n",
      "Epoch 1/20\n",
      "7000/7000 [==============================] - 6s 919us/sample - loss: 0.0229 - val_loss: 0.0055\n",
      "Epoch 2/20\n",
      "7000/7000 [==============================] - 6s 881us/sample - loss: 0.0044 - val_loss: 0.0043\n",
      "Epoch 3/20\n",
      "7000/7000 [==============================] - 6s 793us/sample - loss: 0.0037 - val_loss: 0.0037\n",
      "Epoch 4/20\n",
      "7000/7000 [==============================] - 5s 723us/sample - loss: 0.0034 - val_loss: 0.0033\n",
      "Epoch 5/20\n",
      "7000/7000 [==============================] - 6s 824us/sample - loss: 0.0033 - val_loss: 0.0033\n",
      "Epoch 6/20\n",
      "7000/7000 [==============================] - 6s 841us/sample - loss: 0.0033 - val_loss: 0.0033\n",
      "Epoch 7/20\n",
      "7000/7000 [==============================] - 7s 965us/sample - loss: 0.0032 - val_loss: 0.0033\n",
      "Epoch 8/20\n",
      "7000/7000 [==============================] - 5s 785us/sample - loss: 0.0032 - val_loss: 0.0033\n",
      "Epoch 9/20\n",
      "7000/7000 [==============================] - 5s 724us/sample - loss: 0.0030 - val_loss: 0.0036\n",
      "Epoch 10/20\n",
      "7000/7000 [==============================] - 5s 715us/sample - loss: 0.0030 - val_loss: 0.0031\n",
      "Epoch 11/20\n",
      "7000/7000 [==============================] - 5s 716us/sample - loss: 0.0029 - val_loss: 0.0029\n",
      "Epoch 12/20\n",
      "7000/7000 [==============================] - 6s 814us/sample - loss: 0.0029 - val_loss: 0.0034\n",
      "Epoch 13/20\n",
      "7000/7000 [==============================] - 5s 741us/sample - loss: 0.0029 - val_loss: 0.0029\n",
      "Epoch 14/20\n",
      "7000/7000 [==============================] - 5s 736us/sample - loss: 0.0029 - val_loss: 0.0031\n",
      "Epoch 15/20\n",
      "7000/7000 [==============================] - 6s 803us/sample - loss: 0.0029 - val_loss: 0.0034\n",
      "Epoch 16/20\n",
      "7000/7000 [==============================] - 6s 794us/sample - loss: 0.0030 - val_loss: 0.0028\n",
      "Epoch 17/20\n",
      "7000/7000 [==============================] - 6s 880us/sample - loss: 0.0029 - val_loss: 0.0031\n",
      "Epoch 18/20\n",
      "7000/7000 [==============================] - 6s 882us/sample - loss: 0.0028 - val_loss: 0.0031\n",
      "Epoch 19/20\n",
      "7000/7000 [==============================] - 5s 774us/sample - loss: 0.0028 - val_loss: 0.0028\n",
      "Epoch 20/20\n",
      "7000/7000 [==============================] - 5s 705us/sample - loss: 0.0028 - val_loss: 0.0028\n"
     ]
    }
   ],
   "source": [
    "model.compile(loss=keras.losses.mean_squared_error, optimizer='adam')\n",
    "history = model.fit(X_train, y_train, epochs=20, validation_data=(X_valid, y_valid))"
   ]
  },
  {
   "cell_type": "markdown",
   "metadata": {},
   "source": [
    "Forecasting several timesteps ahead"
   ]
  },
  {
   "cell_type": "code",
   "execution_count": 56,
   "metadata": {},
   "outputs": [
    {
     "name": "stdout",
     "output_type": "stream",
     "text": [
      "[[[ 0.5681477 ]\n",
      "  [ 0.6573052 ]\n",
      "  [ 0.6553215 ]\n",
      "  [ 0.5776591 ]\n",
      "  [ 0.452183  ]\n",
      "  [ 0.31786132]\n",
      "  [ 0.19753003]\n",
      "  [ 0.10179821]\n",
      "  [ 0.03371797]\n",
      "  [-0.01196287]]]\n"
     ]
    }
   ],
   "source": [
    "series = generate_time_series(1, n_steps + 10)\n",
    "X_new, Y_new = series[:, :n_steps], series[:, n_steps:]\n",
    "X = X_new\n",
    "for step_ahead in range(10):\n",
    "    y_pred_one = model.predict(X[:, step_ahead:])[:, np.newaxis, :]\n",
    "    X = np.concatenate([X, y_pred_one], axis=1)\n",
    "\n",
    "Y_pred = X[:, n_steps:]\n",
    "print(Y_pred)"
   ]
  },
  {
   "cell_type": "markdown",
   "metadata": {},
   "source": [
    "You can also use a sequence to model pattern, and in this case, you would need to just change the Dense(1) to Dense(10), but make sure your input data changes accordingly."
   ]
  },
  {
   "cell_type": "markdown",
   "metadata": {},
   "source": [
    "You can also use the TimeDistributed which does the reshaping for you."
   ]
  },
  {
   "cell_type": "code",
   "execution_count": 57,
   "metadata": {},
   "outputs": [],
   "source": [
    "model = keras.models.Sequential([\n",
    "    keras.layers.SimpleRNN(20, return_sequences=True, input_shape=[None, 1]),\n",
    "    keras.layers.SimpleRNN(20, return_sequences=True),\n",
    "    keras.layers.TimeDistributed(keras.layers.Dense(10))\n",
    "])"
   ]
  },
  {
   "cell_type": "markdown",
   "metadata": {},
   "source": [
    "How to deal woth unstable gradients with RNNs is to use LayerNormalisation, unfortunately this has to be done manually, as there is no layer normalisation code yet in keras."
   ]
  },
  {
   "cell_type": "code",
   "execution_count": 63,
   "metadata": {},
   "outputs": [],
   "source": [
    "class LNSimpleRNNCell(keras.layers.Layer):\n",
    "    def __init__(self, units, activation=\"tanh\", **kwargs):\n",
    "        super().__init__(**kwargs)\n",
    "        self.state_size = units\n",
    "        self.output_size = units\n",
    "        self.simple_rnn_cell = keras.layers.SimpleRNNCell(units, activation=None)\n",
    "        self.layer_norm = keras.layers.LayerNormalization()\n",
    "        self.activation = keras.activations.get(activation)\n",
    "    \n",
    "    def call(self, inputs, states):\n",
    "        outputs, new_states = self.simple_rnn_cell(inputs, states)\n",
    "        norm_outputs = self.activation(self.layer_norm(outputs))\n",
    "        return norm_outputs, [norm_outputs]"
   ]
  },
  {
   "cell_type": "code",
   "execution_count": 64,
   "metadata": {},
   "outputs": [],
   "source": [
    "model = keras.models.Sequential([\n",
    "    keras.layers.RNN(LNSimpleRNNCell(20), return_sequences=True, input_shape=[None, 1]),\n",
    "    keras.layers.RNN(LNSimpleRNNCell(20), return_sequences=True),\n",
    "    keras.layers.TimeDistributed(keras.layers.Dense(10))\n",
    "])"
   ]
  },
  {
   "cell_type": "code",
   "execution_count": 65,
   "metadata": {},
   "outputs": [],
   "source": [
    "#LSTM which can be used to remember the beginning so to speak\n",
    "model = keras.models.Sequential([\n",
    "    keras.layers.LSTM(20, return_sequences=True, input_shape=[None, 1]),\n",
    "    keras.layers.LSTM(20, return_sequences=True),\n",
    "    keras.layers.TimeDistributed(keras.layers.Dense(10))\n",
    "])"
   ]
  },
  {
   "cell_type": "markdown",
   "metadata": {},
   "source": [
    "What can also be done to help is that you can add a 1D Conv net in order to assist the RNN and in particular a GRU cell which is similar to LSTM."
   ]
  },
  {
   "cell_type": "code",
   "execution_count": 67,
   "metadata": {},
   "outputs": [
    {
     "ename": "NameError",
     "evalue": "name 'Y_train' is not defined",
     "output_type": "error",
     "traceback": [
      "\u001b[0;31m---------------------------------------------------------------------------\u001b[0m",
      "\u001b[0;31mNameError\u001b[0m                                 Traceback (most recent call last)",
      "\u001b[0;32m<ipython-input-67-de97d525a1ab>\u001b[0m in \u001b[0;36m<module>\u001b[0;34m\u001b[0m\n\u001b[1;32m      7\u001b[0m \u001b[0;34m\u001b[0m\u001b[0m\n\u001b[1;32m      8\u001b[0m \u001b[0mmodel\u001b[0m\u001b[0;34m.\u001b[0m\u001b[0mcompile\u001b[0m\u001b[0;34m(\u001b[0m\u001b[0mloss\u001b[0m\u001b[0;34m=\u001b[0m\u001b[0;34m'mse'\u001b[0m\u001b[0;34m,\u001b[0m \u001b[0moptimizer\u001b[0m\u001b[0;34m=\u001b[0m\u001b[0;34m'adam'\u001b[0m\u001b[0;34m)\u001b[0m\u001b[0;34m\u001b[0m\u001b[0m\n\u001b[0;32m----> 9\u001b[0;31m \u001b[0mhistory\u001b[0m \u001b[0;34m=\u001b[0m \u001b[0mmodel\u001b[0m\u001b[0;34m.\u001b[0m\u001b[0mfit\u001b[0m\u001b[0;34m(\u001b[0m\u001b[0mX_train\u001b[0m\u001b[0;34m,\u001b[0m \u001b[0mY_train\u001b[0m\u001b[0;34m[\u001b[0m\u001b[0;34m:\u001b[0m\u001b[0;34m,\u001b[0m \u001b[0;36m3\u001b[0m\u001b[0;34m:\u001b[0m\u001b[0;34m:\u001b[0m\u001b[0;36m2\u001b[0m\u001b[0;34m]\u001b[0m\u001b[0;34m,\u001b[0m \u001b[0mepochs\u001b[0m\u001b[0;34m=\u001b[0m\u001b[0;36m20\u001b[0m\u001b[0;34m,\u001b[0m \u001b[0mvalidation_data\u001b[0m\u001b[0;34m=\u001b[0m\u001b[0;34m(\u001b[0m\u001b[0mX_valid\u001b[0m\u001b[0;34m,\u001b[0m \u001b[0mY_valid\u001b[0m\u001b[0;34m[\u001b[0m\u001b[0;34m:\u001b[0m\u001b[0;34m,\u001b[0m\u001b[0;36m3\u001b[0m\u001b[0;34m:\u001b[0m\u001b[0;34m:\u001b[0m\u001b[0;36m2\u001b[0m\u001b[0;34m]\u001b[0m\u001b[0;34m)\u001b[0m\u001b[0;34m)\u001b[0m\u001b[0;34m\u001b[0m\u001b[0m\n\u001b[0m",
      "\u001b[0;31mNameError\u001b[0m: name 'Y_train' is not defined"
     ]
    }
   ],
   "source": [
    "model = keras.models.Sequential([\n",
    "    keras.layers.Conv1D(filters=20, kernel_size=4, strides=2, padding=\"valid\", input_shape=[None,1]),\n",
    "    keras.layers.GRU(20, return_sequences=True),\n",
    "    keras.layers.GRU(20, return_sequences=True),\n",
    "    keras.layers.TimeDistributed(keras.layers.Dense(10))\n",
    "])\n",
    "\n",
    "model.compile(loss='mse', optimizer='adam')\n",
    "history = model.fit(X_train, Y_train[:, 3::2], epochs=20, validation_data=(X_valid, Y_valid[:,3::2]))"
   ]
  }
 ],
 "metadata": {
  "kernelspec": {
   "display_name": "Python 3",
   "language": "python",
   "name": "python3"
  },
  "language_info": {
   "codemirror_mode": {
    "name": "ipython",
    "version": 3
   },
   "file_extension": ".py",
   "mimetype": "text/x-python",
   "name": "python",
   "nbconvert_exporter": "python",
   "pygments_lexer": "ipython3",
   "version": "3.7.0"
  }
 },
 "nbformat": 4,
 "nbformat_minor": 4
}
