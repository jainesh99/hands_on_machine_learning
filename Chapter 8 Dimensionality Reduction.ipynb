{
 "cells": [
  {
   "cell_type": "code",
   "execution_count": 55,
   "metadata": {},
   "outputs": [],
   "source": [
    "import dill\n",
    "dill.load_session('ch8dimesnionalityreduction.db')"
   ]
  },
  {
   "cell_type": "code",
   "execution_count": 56,
   "metadata": {},
   "outputs": [
    {
     "data": {
      "text/plain": [
       "array([[ 1.59788762e-19, -1.73094665e-02, -2.23428843e-01,\n",
       "        -1.35913284e-01, -3.30323010e-02, -9.66340685e-02,\n",
       "        -8.32941312e-03,  2.26900703e-03, -3.20516681e-04,\n",
       "        -1.19308923e-01, -2.44451684e-01,  1.48512787e-01,\n",
       "        -4.67319359e-02, -2.17740746e-01, -1.48136512e-02,\n",
       "         4.47779966e-03, -4.94136713e-05, -7.95419659e-02,\n",
       "         8.33951356e-02,  2.15915383e-01, -1.72126830e-01,\n",
       "        -1.63712113e-01,  2.86444607e-02,  4.23251900e-03,\n",
       "         9.85488484e-05,  6.42318871e-02,  2.54093289e-01,\n",
       "        -3.56770713e-02, -2.09462587e-01, -4.31311358e-02,\n",
       "         5.13118777e-02,  2.13422790e-04,  0.00000000e+00,\n",
       "         1.59950860e-01,  3.68690754e-01,  1.64406824e-01,\n",
       "         8.52007665e-02,  3.72983005e-02,  2.15867095e-02,\n",
       "         0.00000000e+00,  1.28865575e-03,  1.06945272e-01,\n",
       "         3.03067446e-01,  2.47813041e-01,  2.09637273e-01,\n",
       "         1.22325201e-02, -3.69458303e-02,  1.61485140e-03,\n",
       "         6.93023718e-04, -8.35144325e-03, -5.58598937e-02,\n",
       "         9.30534630e-02,  1.07387724e-01, -1.37734566e-01,\n",
       "        -6.32879370e-02,  9.61673441e-04,  9.55079598e-06,\n",
       "        -1.40786849e-02, -2.35675495e-01, -1.41225562e-01,\n",
       "        -9.15965192e-03, -8.94184807e-02, -3.65977172e-02,\n",
       "        -1.14684957e-02],\n",
       "       [-1.02098535e-17, -1.01064582e-02, -4.90849326e-02,\n",
       "        -9.43339868e-03, -5.36015742e-02, -1.17755358e-01,\n",
       "        -6.21282170e-02, -7.93575284e-03, -1.63215984e-04,\n",
       "        -2.10166883e-02,  6.03485786e-02, -5.33774518e-03,\n",
       "        -9.19769383e-02, -5.19210615e-02, -5.89354984e-02,\n",
       "        -3.33283818e-03, -4.22870947e-05,  3.62458887e-02,\n",
       "         1.98257348e-01, -4.86387201e-02, -2.25574866e-01,\n",
       "        -4.50539959e-03,  2.67696667e-02, -2.08735685e-04,\n",
       "        -5.66233471e-05,  7.71235464e-02,  1.88447127e-01,\n",
       "        -1.37952557e-01, -2.61042751e-01,  4.98350456e-02,\n",
       "         6.51113719e-02,  4.03200163e-05, -0.00000000e+00,\n",
       "         8.81560158e-02,  8.71737619e-02, -2.70860167e-01,\n",
       "        -2.85291772e-01,  1.66461546e-01,  1.27860524e-01,\n",
       "        -0.00000000e+00,  2.89440293e-04,  5.08304988e-02,\n",
       "         1.30274472e-01, -2.68906465e-01, -3.01575523e-01,\n",
       "         2.40259064e-01,  2.17555518e-01,  1.32725885e-03,\n",
       "         2.86742757e-04,  1.05548275e-02,  1.53370683e-01,\n",
       "        -1.19535240e-01, -9.72508126e-02,  2.85869549e-01,\n",
       "         1.48776412e-01,  5.42284367e-04, -3.34028098e-05,\n",
       "        -1.00791186e-02, -7.02724248e-02,  1.71107895e-02,\n",
       "         1.94296430e-01,  1.76697117e-01,  1.94546881e-02,\n",
       "        -6.69694451e-03]])"
      ]
     },
     "execution_count": 56,
     "metadata": {},
     "output_type": "execute_result"
    }
   ],
   "source": [
    "from sklearn.datasets import load_digits\n",
    "from sklearn.decomposition import PCA\n",
    "\n",
    "X = load_digits()\n",
    "pca = PCA(n_components=2)\n",
    "X2D = pca.fit_transform(X.data)\n",
    "pca.components_"
   ]
  },
  {
   "cell_type": "code",
   "execution_count": 57,
   "metadata": {},
   "outputs": [
    {
     "data": {
      "text/plain": [
       "array([0.14890594, 0.13618771])"
      ]
     },
     "execution_count": 57,
     "metadata": {},
     "output_type": "execute_result"
    }
   ],
   "source": [
    "pca.explained_variance_ratio_"
   ]
  },
  {
   "cell_type": "code",
   "execution_count": 58,
   "metadata": {},
   "outputs": [
    {
     "data": {
      "text/plain": [
       "(1797, 64)"
      ]
     },
     "execution_count": 58,
     "metadata": {},
     "output_type": "execute_result"
    }
   ],
   "source": [
    "X.data.shape"
   ]
  },
  {
   "cell_type": "code",
   "execution_count": 59,
   "metadata": {},
   "outputs": [
    {
     "data": {
      "image/png": "[encoded data removed]",
      "text/plain": [
       "<Figure size 288x288 with 1 Axes>"
      ]
     },
     "metadata": {
      "needs_background": "light"
     },
     "output_type": "display_data"
    }
   ],
   "source": [
    "import matplotlib.pyplot as plt\n",
    "plt.matshow(X.images[0])\n",
    "plt.show()"
   ]
  },
  {
   "cell_type": "markdown",
   "metadata": {},
   "source": [
    "Previously you had to specify the components, however what if you want a ratio for instance you want to preserve 95% of the data, this can also be done in the same way, instead of writing n_components=2 you just say =0.95"
   ]
  },
  {
   "cell_type": "code",
   "execution_count": 60,
   "metadata": {},
   "outputs": [
    {
     "data": {
      "text/plain": [
       "array([0.14890594, 0.13618771, 0.11794594, 0.08409979, 0.05782415,\n",
       "       0.0491691 , 0.04315987, 0.03661373, 0.03353248, 0.03078806,\n",
       "       0.02372341, 0.02272697, 0.01821863, 0.01773855, 0.01467101,\n",
       "       0.01409716, 0.01318589, 0.01248138, 0.01017718, 0.00905617,\n",
       "       0.00889538, 0.00797123, 0.00767493, 0.00722904, 0.00695889,\n",
       "       0.00596081, 0.00575615, 0.00515158, 0.0048954 ])"
      ]
     },
     "execution_count": 60,
     "metadata": {},
     "output_type": "execute_result"
    }
   ],
   "source": [
    "pca_95 = PCA(n_components=0.95)\n",
    "X2D_95 = pca_95.fit_transform(X.data)\n",
    "pca_95.explained_variance_ratio_"
   ]
  },
  {
   "cell_type": "code",
   "execution_count": 61,
   "metadata": {},
   "outputs": [
    {
     "data": {
      "text/plain": [
       "array([[-1.77484909e-19, -1.73094651e-02, -2.23428835e-01, ...,\n",
       "        -8.94184677e-02, -3.65977111e-02, -1.14684954e-02],\n",
       "       [ 3.27805401e-18, -1.01064569e-02, -4.90849204e-02, ...,\n",
       "         1.76697117e-01,  1.94547053e-02, -6.69693895e-03],\n",
       "       [-1.68358559e-18,  1.83420720e-02,  1.26475543e-01, ...,\n",
       "         2.32084163e-01,  1.67026563e-01,  3.48043832e-02],\n",
       "       ...,\n",
       "       [ 1.33815481e-17,  8.24410330e-03,  1.42774093e-01, ...,\n",
       "        -1.07466629e-02,  3.38995330e-01,  1.58789644e-01],\n",
       "       [-3.84384960e-18,  9.17016581e-03,  4.17946439e-02, ...,\n",
       "         1.30708382e-01, -1.34487279e-02,  2.11313565e-02],\n",
       "       [-4.85442521e-18,  1.79906763e-03, -4.74972508e-02, ...,\n",
       "         3.01741290e-02,  8.16530266e-02,  5.93242720e-02]])"
      ]
     },
     "execution_count": 61,
     "metadata": {},
     "output_type": "execute_result"
    }
   ],
   "source": [
    "pca_95.components_"
   ]
  },
  {
   "cell_type": "code",
   "execution_count": 62,
   "metadata": {},
   "outputs": [
    {
     "data": {
      "text/plain": [
       "(1797, 29)"
      ]
     },
     "execution_count": 62,
     "metadata": {},
     "output_type": "execute_result"
    }
   ],
   "source": [
    "X2D_95.shape"
   ]
  },
  {
   "cell_type": "markdown",
   "metadata": {},
   "source": [
    "You can recover back from the reduced version using the below"
   ]
  },
  {
   "cell_type": "code",
   "execution_count": 64,
   "metadata": {},
   "outputs": [
    {
     "data": {
      "text/plain": [
       "(1797, 64)"
      ]
     },
     "execution_count": 64,
     "metadata": {},
     "output_type": "execute_result"
    }
   ],
   "source": [
    "X_recovered = pca_95.inverse_transform(X2D_95)\n",
    "X_recovered.shape"
   ]
  },
  {
   "cell_type": "markdown",
   "metadata": {},
   "source": [
    "PCA is very slow as you would need to use the entire dataset, however you can use incremental PCA for online learning or having a small dataset at a time."
   ]
  },
  {
   "cell_type": "code",
   "execution_count": 66,
   "metadata": {},
   "outputs": [
    {
     "data": {
      "text/plain": [
       "array([[ -0.55291874, -21.16650296],\n",
       "       [  6.8870461 ,  22.83021328],\n",
       "       [  7.74421026,  12.48728446],\n",
       "       ...,\n",
       "       [ 10.95095237,   7.78560133],\n",
       "       [ -3.99536842,  -8.15272079],\n",
       "       [  1.73744108,  -6.80900828]])"
      ]
     },
     "execution_count": 66,
     "metadata": {},
     "output_type": "execute_result"
    }
   ],
   "source": [
    "from sklearn.decomposition import IncrementalPCA\n",
    "import numpy as np\n",
    "\n",
    "n_batches = 100\n",
    "inc_pca = IncrementalPCA(n_components=2)\n",
    "for X_batch in np.array_split(X.data, n_batches):\n",
    "    inc_pca.partial_fit(X_batch)\n",
    "\n",
    "X_reduced = inc_pca.transform(X.data)\n",
    "X_reduced"
   ]
  },
  {
   "cell_type": "markdown",
   "metadata": {},
   "source": [
    "PCA is a projection approach at dimensionality reduction, however there is another approach as well and this is manifold, one of these is called LLE. This basically is trying to find neighbors and keep the squared distance as small as possible."
   ]
  },
  {
   "cell_type": "code",
   "execution_count": 68,
   "metadata": {},
   "outputs": [
    {
     "data": {
      "text/plain": [
       "(1797, 2)"
      ]
     },
     "execution_count": 68,
     "metadata": {},
     "output_type": "execute_result"
    }
   ],
   "source": [
    "from sklearn.manifold import LocallyLinearEmbedding\n",
    "\n",
    "lle = LocallyLinearEmbedding(n_components=2, n_neighbors=10)\n",
    "X_reduced_lle = lle.fit_transform(X.data)\n",
    "X_reduced_lle.shape"
   ]
  },
  {
   "cell_type": "code",
   "execution_count": 70,
   "metadata": {},
   "outputs": [],
   "source": [
    "import dill\n",
    "dill.dump_session('ch8dimesnionalityreduction.db')"
   ]
  }
 ],
 "metadata": {
  "kernelspec": {
   "display_name": "Python 3",
   "language": "python",
   "name": "python3"
  },
  "language_info": {
   "codemirror_mode": {
    "name": "ipython",
    "version": 3
   },
   "file_extension": ".py",
   "mimetype": "text/x-python",
   "name": "python",
   "nbconvert_exporter": "python",
   "pygments_lexer": "ipython3",
   "version": "3.7.0"
  }
 },
 "nbformat": 4,
 "nbformat_minor": 4
}
